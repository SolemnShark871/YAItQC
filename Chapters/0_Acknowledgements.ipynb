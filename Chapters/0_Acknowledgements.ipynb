{
 "cells": [
  {
   "attachments": {},
   "cell_type": "markdown",
   "metadata": {},
   "source": [
    "# Acknowledgements\n",
    "\n",
    "This educational text simply builds upon the inspiring work of a large number of visionaries. In addition, there are many great minds whose generosity in sharing their insights facilitated much of t`his work. It has been a great honour and privilege to have been supported in this endeavour. As an expression of gratitude, what follows is, in no particular order, a list of thanks:\n",
    "\n",
    "\n",
    "Thanking Eric (Passawis) for his grammatical corrections to chapters 1,2,3... as well as his encouraging feedback.\n",
    "\n",
    "Thanking Cris Diaz for his invaluable GitHub support\n",
    "\n",
    "For his excellent feedback on chapter 1, I would like to thank Ivan Arie De Jesus Caballero Simbaqueba.\n",
    "\n",
    "For some design suggestions, thanks to Carla Juliana Acosta Zamudio.\n",
    "\n",
    "As my first student who put up with me rambling through the first two chapters, I'd like to thank Favio Acosta \n",
    "\n",
    "For the many corrections to assignment 1, I give thanks to Giulio Malinverno, Andrés Felipe Guerrero, Rajat Kumar, Mahdi Sanagostar and Rajul Sharma.\n",
    "\n",
    "For pointing out the tensor product $\\ket{0+}$ will not change under the standard $CNOT_{a,b}$, I give thanks to Rajat Kumar &  Andres Felipe Guerrero, this will help with chapter 6.\n",
    "\n",
    "Conveniently, Andrés Felipe Guerrero González was able to spot an error in the general form of a single qubit gate before most people had attempted assignment 2, thank you. \n",
    "\n",
    "And for additional corrections to assignment 2, I thank Mahdi Sanagostar\n",
    "\n",
    "My thanks to Luis Javier Parra for pointing out a small but significant correction in Chapter 4.\n",
    "\n",
    "To Shaan Mehmood, I give thanks for his advice on how to bring up the challenging question of interpretations of quantum mechanics. "
   ]
  }
 ],
 "metadata": {
  "kernelspec": {
   "display_name": "Python 3.8.5 ('base')",
   "language": "python",
   "name": "python3"
  },
  "language_info": {
   "name": "python",
   "version": "3.8.5"
  },
  "orig_nbformat": 4,
  "vscode": {
   "interpreter": {
    "hash": "ad2bdc8ecc057115af97d19610ffacc2b4e99fae6737bb82f5d7fb13d2f2c186"
   }
  }
 },
 "nbformat": 4,
 "nbformat_minor": 2
}
