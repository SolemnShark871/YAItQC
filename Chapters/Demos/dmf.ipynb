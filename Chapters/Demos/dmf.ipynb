{
 "cells": [
  {
   "attachments": {},
   "cell_type": "markdown",
   "metadata": {},
   "source": [
    "# Dead Man's Fifties \n",
    "\n",
    "Entanglement is perhaps the defining feature of quantum information. The violation of Bell's inequalities won the Nobel prize for physics in 2022 and the capability to realise two qubit gates is the second requirement for universal quantum computing (after arbitrary single qubit gates). In chapter 1, entanglement is introduced using the analogy of two coins. In this demo, coins will be used as a more elaborate analogy for quantum computing. \n",
    "\n",
    "An unbiased coin has equal probabilities of landing on either the tails (T) side or the heads (H) side. Therefore, any number of these coins tossed will produce some random distribution of heads & tails. \n",
    "\n",
    "Whilst coins do not meet either of the requirements for quantum computing, there is a small subset of operators that can be effectively implemented. \n",
    "\n",
    "\n",
    "## Limitations of the coins \n",
    "\n",
    "Phase is not observed in the real world. As a complex number, we can only ever measure \n",
    "\n",
    "## An analogy for quantum error correction \n",
    "\n"
   ]
  }
 ],
 "metadata": {
  "language_info": {
   "name": "python"
  },
  "orig_nbformat": 4
 },
 "nbformat": 4,
 "nbformat_minor": 2
}
